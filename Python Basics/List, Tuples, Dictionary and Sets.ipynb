{
 "cells": [
  {
   "cell_type": "code",
   "execution_count": 1,
   "id": "a2e99ade",
   "metadata": {},
   "outputs": [],
   "source": [
    "l = [1,2,3,4,5,\"avii\", True]"
   ]
  },
  {
   "cell_type": "code",
   "execution_count": 2,
   "id": "cf731be0",
   "metadata": {},
   "outputs": [
    {
     "data": {
      "text/plain": [
       "[1, 2, 3, 4, 5, 'avii', True]"
      ]
     },
     "execution_count": 2,
     "metadata": {},
     "output_type": "execute_result"
    }
   ],
   "source": [
    "l"
   ]
  },
  {
   "cell_type": "code",
   "execution_count": 3,
   "id": "befe1017",
   "metadata": {},
   "outputs": [
    {
     "data": {
      "text/plain": [
       "1"
      ]
     },
     "execution_count": 3,
     "metadata": {},
     "output_type": "execute_result"
    }
   ],
   "source": [
    "l[0]"
   ]
  },
  {
   "cell_type": "code",
   "execution_count": 4,
   "id": "f8f1358b",
   "metadata": {},
   "outputs": [
    {
     "data": {
      "text/plain": [
       "2"
      ]
     },
     "execution_count": 4,
     "metadata": {},
     "output_type": "execute_result"
    }
   ],
   "source": [
    "l[1]"
   ]
  },
  {
   "cell_type": "code",
   "execution_count": 5,
   "id": "9ee2470d",
   "metadata": {},
   "outputs": [
    {
     "data": {
      "text/plain": [
       "True"
      ]
     },
     "execution_count": 5,
     "metadata": {},
     "output_type": "execute_result"
    }
   ],
   "source": [
    "l[-1]"
   ]
  },
  {
   "cell_type": "code",
   "execution_count": 6,
   "id": "ee55fdec",
   "metadata": {},
   "outputs": [
    {
     "data": {
      "text/plain": [
       "'avii'"
      ]
     },
     "execution_count": 6,
     "metadata": {},
     "output_type": "execute_result"
    }
   ],
   "source": [
    "l[-2]"
   ]
  },
  {
   "cell_type": "code",
   "execution_count": 8,
   "id": "de30e486",
   "metadata": {},
   "outputs": [
    {
     "data": {
      "text/plain": [
       "False"
      ]
     },
     "execution_count": 8,
     "metadata": {},
     "output_type": "execute_result"
    }
   ],
   "source": [
    "60 in l"
   ]
  },
  {
   "cell_type": "code",
   "execution_count": 9,
   "id": "16d0c769",
   "metadata": {},
   "outputs": [
    {
     "data": {
      "text/plain": [
       "True"
      ]
     },
     "execution_count": 9,
     "metadata": {},
     "output_type": "execute_result"
    }
   ],
   "source": [
    "3 in l"
   ]
  },
  {
   "cell_type": "code",
   "execution_count": 13,
   "id": "30216ca0",
   "metadata": {},
   "outputs": [
    {
     "data": {
      "text/plain": [
       "4"
      ]
     },
     "execution_count": 13,
     "metadata": {},
     "output_type": "execute_result"
    }
   ],
   "source": [
    "max(l[0:4])"
   ]
  },
  {
   "cell_type": "code",
   "execution_count": 14,
   "id": "782cb7be",
   "metadata": {},
   "outputs": [],
   "source": [
    "l2 = ['Avinash', 'Kumar', 'Shandilya']"
   ]
  },
  {
   "cell_type": "code",
   "execution_count": 15,
   "id": "fd39965a",
   "metadata": {},
   "outputs": [
    {
     "data": {
      "text/plain": [
       "'Shandilya'"
      ]
     },
     "execution_count": 15,
     "metadata": {},
     "output_type": "execute_result"
    }
   ],
   "source": [
    "max(l2)"
   ]
  },
  {
   "cell_type": "code",
   "execution_count": 16,
   "id": "e5a492c7",
   "metadata": {},
   "outputs": [
    {
     "data": {
      "text/plain": [
       "'Avinash'"
      ]
     },
     "execution_count": 16,
     "metadata": {},
     "output_type": "execute_result"
    }
   ],
   "source": [
    "min(l2)"
   ]
  },
  {
   "cell_type": "code",
   "execution_count": 17,
   "id": "4a61fb95",
   "metadata": {},
   "outputs": [],
   "source": [
    "l.append(34.67)"
   ]
  },
  {
   "cell_type": "code",
   "execution_count": 18,
   "id": "5adf4417",
   "metadata": {},
   "outputs": [
    {
     "data": {
      "text/plain": [
       "[1, 2, 3, 4, 5, 'avii', True, 34.67]"
      ]
     },
     "execution_count": 18,
     "metadata": {},
     "output_type": "execute_result"
    }
   ],
   "source": [
    "l"
   ]
  },
  {
   "cell_type": "code",
   "execution_count": 19,
   "id": "b00df4d6",
   "metadata": {},
   "outputs": [
    {
     "data": {
      "text/plain": [
       "list"
      ]
     },
     "execution_count": 19,
     "metadata": {},
     "output_type": "execute_result"
    }
   ],
   "source": [
    "type(l)"
   ]
  },
  {
   "cell_type": "code",
   "execution_count": 20,
   "id": "2c185de3",
   "metadata": {},
   "outputs": [
    {
     "data": {
      "text/plain": [
       "[1, 2, 3, 4, 5, 'avii', True, 34.67]"
      ]
     },
     "execution_count": 20,
     "metadata": {},
     "output_type": "execute_result"
    }
   ],
   "source": [
    "l"
   ]
  },
  {
   "cell_type": "code",
   "execution_count": 21,
   "id": "447e4809",
   "metadata": {},
   "outputs": [
    {
     "data": {
      "text/plain": [
       "34.67"
      ]
     },
     "execution_count": 21,
     "metadata": {},
     "output_type": "execute_result"
    }
   ],
   "source": [
    "l.pop()"
   ]
  },
  {
   "cell_type": "code",
   "execution_count": 22,
   "id": "f72a82ef",
   "metadata": {},
   "outputs": [],
   "source": [
    "l.extend(\"avinash\")"
   ]
  },
  {
   "cell_type": "code",
   "execution_count": 23,
   "id": "9cd5c7e9",
   "metadata": {},
   "outputs": [
    {
     "data": {
      "text/plain": [
       "[1, 2, 3, 4, 5, 'avii', True, 'a', 'v', 'i', 'n', 'a', 's', 'h']"
      ]
     },
     "execution_count": 23,
     "metadata": {},
     "output_type": "execute_result"
    }
   ],
   "source": [
    "l"
   ]
  },
  {
   "cell_type": "code",
   "execution_count": 24,
   "id": "6c86c6e9",
   "metadata": {},
   "outputs": [],
   "source": [
    "l.insert(2,'Avinash')"
   ]
  },
  {
   "cell_type": "code",
   "execution_count": 25,
   "id": "a61bea87",
   "metadata": {},
   "outputs": [
    {
     "data": {
      "text/plain": [
       "[1, 2, 'Avinash', 3, 4, 5, 'avii', True, 'a', 'v', 'i', 'n', 'a', 's', 'h']"
      ]
     },
     "execution_count": 25,
     "metadata": {},
     "output_type": "execute_result"
    }
   ],
   "source": [
    "l"
   ]
  },
  {
   "cell_type": "code",
   "execution_count": 26,
   "id": "cd53877a",
   "metadata": {},
   "outputs": [],
   "source": [
    "t = (4,5,6,7,\"avii\",45.67)"
   ]
  },
  {
   "cell_type": "code",
   "execution_count": 27,
   "id": "59624572",
   "metadata": {},
   "outputs": [
    {
     "data": {
      "text/plain": [
       "tuple"
      ]
     },
     "execution_count": 27,
     "metadata": {},
     "output_type": "execute_result"
    }
   ],
   "source": [
    "type(t)"
   ]
  },
  {
   "cell_type": "code",
   "execution_count": 28,
   "id": "7bbdc5cc",
   "metadata": {},
   "outputs": [
    {
     "data": {
      "text/plain": [
       "(4, 5, 6, 7, 'avii', 45.67)"
      ]
     },
     "execution_count": 28,
     "metadata": {},
     "output_type": "execute_result"
    }
   ],
   "source": [
    "t"
   ]
  },
  {
   "cell_type": "code",
   "execution_count": 32,
   "id": "c3b9fc61",
   "metadata": {},
   "outputs": [],
   "source": [
    "#Dictionary"
   ]
  },
  {
   "cell_type": "code",
   "execution_count": null,
   "id": "cde7c780",
   "metadata": {},
   "outputs": [],
   "source": []
  }
 ],
 "metadata": {
  "kernelspec": {
   "display_name": "Python 3 (ipykernel)",
   "language": "python",
   "name": "python3"
  },
  "language_info": {
   "codemirror_mode": {
    "name": "ipython",
    "version": 3
   },
   "file_extension": ".py",
   "mimetype": "text/x-python",
   "name": "python",
   "nbconvert_exporter": "python",
   "pygments_lexer": "ipython3",
   "version": "3.9.12"
  }
 },
 "nbformat": 4,
 "nbformat_minor": 5
}
